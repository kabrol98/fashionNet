{
 "cells": [
  {
   "cell_type": "code",
   "execution_count": 150,
   "id": "5b400812-cbab-42df-bedd-d2c356d2fb95",
   "metadata": {},
   "outputs": [],
   "source": [
    "# Load FashionMNIST Dataset\n",
    "import torch\n",
    "from torch import nn\n",
    "from torch.utils.data import Dataset, DataLoader\n",
    "from torchvision import datasets\n",
    "from torchvision.transforms import ToTensor, Lambda\n",
    "import matplotlib.pyplot as plt\n",
    "from tqdm import tqdm, trange\n",
    "import numpy as np\n",
    "import importlib\n",
    "\n",
    "# Reload custom modules in case of refresh\n",
    "import custom_models\n",
    "importlib.reload(custom_models)\n",
    "from custom_models import AutoEncoder\n",
    "\n",
    "training_data = datasets.FashionMNIST(\n",
    "    root=\"data\",\n",
    "    train=True,\n",
    "    download=True,\n",
    "    transform=ToTensor(),\n",
    "    target_transform=Lambda(lambda y: torch.zeros(10, dtype=torch.float).scatter_(0, torch.tensor(y), value=1))\n",
    ")\n",
    "\n",
    "test_data = datasets.FashionMNIST(\n",
    "    root=\"data\",\n",
    "    train=False,\n",
    "    download=True,\n",
    "    transform=ToTensor(),\n",
    "    target_transform=Lambda(lambda y: torch.zeros(10, dtype=torch.float).scatter_(0, torch.tensor(y), value=1))\n",
    ")\n",
    "\n",
    "class_names = [\n",
    "    'T-shirt/top',\n",
    "    'Trouser',\n",
    "    'Pullover',\n",
    "    'Dress',\n",
    "    'Coat',\n",
    "    'Sandal',\n",
    "    'Shirt',\n",
    "    'Sneaker',\n",
    "    'Bag',\n",
    "    'Ankle boot'\n",
    "]"
   ]
  },
  {
   "cell_type": "code",
   "execution_count": 151,
   "id": "5cea100d-618c-4e31-9495-68470ab88a66",
   "metadata": {},
   "outputs": [
    {
     "data": {
      "image/png": "[encoded data removed]",
      "text/plain": [
       "<Figure size 640x480 with 1 Axes>"
      ]
     },
     "metadata": {},
     "output_type": "display_data"
    }
   ],
   "source": [
    "index = 0\n",
    "img, label = training_data[index]\n",
    "plt.imshow(img.squeeze(), cmap='gray')\n",
    "plt.title(label)\n",
    "plt.show()"
   ]
  },
  {
   "cell_type": "code",
   "execution_count": 152,
   "id": "39be79be-8f18-4dd7-8a00-241234f7e44c",
   "metadata": {},
   "outputs": [
    {
     "name": "stdout",
     "output_type": "stream",
     "text": [
      "Using cpu device\n"
     ]
    }
   ],
   "source": [
    "device = (\n",
    "    \"cuda\"\n",
    "    if torch.cuda.is_available()\n",
    "    else \"mps\"\n",
    "    if torch.backends.mps.is_available()\n",
    "    else \"cpu\"\n",
    ")\n",
    "device=\"cpu\"\n",
    "print(f\"Using {device} device\")"
   ]
  },
  {
   "cell_type": "code",
   "execution_count": 153,
   "id": "f1d614cb-1b18-4a60-9da1-9b187e415320",
   "metadata": {},
   "outputs": [
    {
     "name": "stdout",
     "output_type": "stream",
     "text": [
      "[Sequential(\n",
      "  (0): Linear(in_features=784, out_features=556, bias=True)\n",
      "  (1): ReLU()\n",
      "), Sequential(\n",
      "  (0): Linear(in_features=556, out_features=328, bias=True)\n",
      "  (1): ReLU()\n",
      "), Sequential(\n",
      "  (0): Linear(in_features=328, out_features=100, bias=True)\n",
      "  (1): ReLU()\n",
      ")]\n",
      "[Sequential(\n",
      "  (0): Linear(in_features=100, out_features=328, bias=True)\n",
      "  (1): ReLU()\n",
      "), Sequential(\n",
      "  (0): Linear(in_features=328, out_features=556, bias=True)\n",
      "  (1): ReLU()\n",
      "), Sequential(\n",
      "  (0): Linear(in_features=556, out_features=784, bias=True)\n",
      "  (1): ReLU()\n",
      ")]\n",
      "AutoEncoder(\n",
      "  (Encoder): Linspace(\n",
      "    (full_model): Sequential(\n",
      "      (0): Sequential(\n",
      "        (0): Linear(in_features=784, out_features=556, bias=True)\n",
      "        (1): ReLU()\n",
      "      )\n",
      "      (1): Sequential(\n",
      "        (0): Linear(in_features=556, out_features=328, bias=True)\n",
      "        (1): ReLU()\n",
      "      )\n",
      "      (2): Sequential(\n",
      "        (0): Linear(in_features=328, out_features=100, bias=True)\n",
      "        (1): ReLU()\n",
      "      )\n",
      "    )\n",
      "  )\n",
      "  (Decoder): Linspace(\n",
      "    (full_model): Sequential(\n",
      "      (0): Sequential(\n",
      "        (0): Linear(in_features=100, out_features=328, bias=True)\n",
      "        (1): ReLU()\n",
      "      )\n",
      "      (1): Sequential(\n",
      "        (0): Linear(in_features=328, out_features=556, bias=True)\n",
      "        (1): ReLU()\n",
      "      )\n",
      "      (2): Sequential(\n",
      "        (0): Linear(in_features=556, out_features=784, bias=True)\n",
      "        (1): ReLU()\n",
      "      )\n",
      "    )\n",
      "  )\n",
      "  (full_model): Sequential(\n",
      "    (0): Linspace(\n",
      "      (full_model): Sequential(\n",
      "        (0): Sequential(\n",
      "          (0): Linear(in_features=784, out_features=556, bias=True)\n",
      "          (1): ReLU()\n",
      "        )\n",
      "        (1): Sequential(\n",
      "          (0): Linear(in_features=556, out_features=328, bias=True)\n",
      "          (1): ReLU()\n",
      "        )\n",
      "        (2): Sequential(\n",
      "          (0): Linear(in_features=328, out_features=100, bias=True)\n",
      "          (1): ReLU()\n",
      "        )\n",
      "      )\n",
      "    )\n",
      "    (1): Linspace(\n",
      "      (full_model): Sequential(\n",
      "        (0): Sequential(\n",
      "          (0): Linear(in_features=100, out_features=328, bias=True)\n",
      "          (1): ReLU()\n",
      "        )\n",
      "        (1): Sequential(\n",
      "          (0): Linear(in_features=328, out_features=556, bias=True)\n",
      "          (1): ReLU()\n",
      "        )\n",
      "        (2): Sequential(\n",
      "          (0): Linear(in_features=556, out_features=784, bias=True)\n",
      "          (1): ReLU()\n",
      "        )\n",
      "      )\n",
      "    )\n",
      "  )\n",
      ")\n"
     ]
    }
   ],
   "source": [
    "model = AutoEncoder(\n",
    "    input_dim = 28 * 28, \n",
    "    encoder_size = 3,\n",
    "    decoder_size = 3,\n",
    "    n_layers = 1, \n",
    "    layer_dim = 100).to(device)\n",
    "print(model)"
   ]
  },
  {
   "cell_type": "code",
   "execution_count": 158,
   "id": "447bf0ab-2088-42a3-9185-ad629e3dfbba",
   "metadata": {},
   "outputs": [],
   "source": [
    "# Training loop\n",
    "learning_rate = 1e-3\n",
    "batch_size = 64\n",
    "epochs = 10\n",
    "# Initialize the loss function\n",
    "loss_fn = nn.MSELoss()\n",
    "\n",
    "optimizer = torch.optim.Adam(model.parameters(), lr=learning_rate)\n",
    "\n",
    "def train_loop(dataloader, model, loss_fn, optimizer):\n",
    "    size = len(dataloader.dataset)\n",
    "    # Set the model to training mode - important for batch normalization and dropout layers\n",
    "    # Unnecessary in this situation but added for best practices\n",
    "    model.train()\n",
    "    t = tqdm(range(size), position=1, leave=False)\n",
    "    with t as PB:\n",
    "        for batch, (X, y) in enumerate(dataloader):\n",
    "            # flatten image (y is ignored here)\n",
    "            flat = X.reshape(-1, 28 * 28)\n",
    "            # Compute prediction and loss\n",
    "            pred = model(flat)\n",
    "            loss = loss_fn(pred, flat)\n",
    "\n",
    "            # Backpropagation\n",
    "            loss.backward()\n",
    "            optimizer.step()\n",
    "            optimizer.zero_grad()\n",
    "\n",
    "            if batch % 100 == 0:\n",
    "                loss, current = loss.item(), (batch + 1) * len(X)\n",
    "                PB.set_description(f\"\\tTraining:\\tloss: {loss:>4f}, curr: {current}\")\n",
    "            PB.update(batch_size)\n",
    "\n",
    "\n",
    "def test_loop(dataloader, model, loss_fn, epoch, pbar=None):\n",
    "    # Set the model to evaluation mode - important for batch normalization and dropout layers\n",
    "    # Unnecessary in this situation but added for best practices\n",
    "    model.eval()\n",
    "    size = len(dataloader.dataset)\n",
    "    num_batches = len(dataloader)\n",
    "    test_loss, correct = 0, 0\n",
    "\n",
    "    # Evaluating the model with torch.no_grad() ensures that no gradients are computed during test mode\n",
    "    # also serves to reduce unnecessary gradient computations and memory usage for tensors with requires_grad=True\n",
    "    with torch.no_grad():\n",
    "        for X, y in dataloader:\n",
    "            # flatten image (y is ignored here)\n",
    "            flat = X.reshape(-1, 28 * 28)\n",
    "            pred = model(flat)\n",
    "            test_loss += loss_fn(pred, flat).item()\n",
    "            # correct += (pred.argmax(1) == y.argmax(1)).type(torch.float).sum().item()\n",
    "\n",
    "    test_loss /= num_batches\n",
    "    # correct /= size\n",
    "    output_text = f\"Epoch {epoch}:\\tTest Error: (Avg loss: {test_loss:>4f}) \\n\"\n",
    "    if pbar:\n",
    "        pbar.set_description(output_text)\n",
    "        pbar.update(1)\n",
    "    else:\n",
    "        print(output_text)\n",
    "    return test_loss, correct"
   ]
  },
  {
   "cell_type": "code",
   "execution_count": null,
   "id": "c26b67d0",
   "metadata": {},
   "outputs": [],
   "source": [
    "losses, corrects = [], []"
   ]
  },
  {
   "cell_type": "code",
   "execution_count": 163,
   "id": "645dedcb-032a-4057-88e1-0acfe1c4169c",
   "metadata": {},
   "outputs": [
    {
     "name": "stderr",
     "output_type": "stream",
     "text": [
      "Epoch 0...:   0%|          | 0/10 [03:29<?, ?it/s]\n",
      "Epoch 0:\tTest Error: (Avg loss: 0.014376) \n",
      "Epoch 0:\tTest Error: (Avg loss: 0.014376) \n",
      "Epoch 1:\tTest Error: (Avg loss: 0.014276) 8s/it]\n",
      "Epoch 1:\tTest Error: (Avg loss: 0.014276) 8s/it]\n",
      "Epoch 2:\tTest Error: (Avg loss: 0.014208) 5s/it]\n",
      "Epoch 2:\tTest Error: (Avg loss: 0.014208) 5s/it]\n",
      "Epoch 3:\tTest Error: (Avg loss: 0.014035) 1s/it]\n",
      "Epoch 3:\tTest Error: (Avg loss: 0.014035) 1s/it]\n",
      "Epoch 4:\tTest Error: (Avg loss: 0.014015) 4s/it]\n",
      "Epoch 4:\tTest Error: (Avg loss: 0.014015) 4s/it]\n",
      "Epoch 5:\tTest Error: (Avg loss: 0.014047) 2s/it]\n",
      "Epoch 5:\tTest Error: (Avg loss: 0.014047) 2s/it]\n",
      "Epoch 6:\tTest Error: (Avg loss: 0.013894) 3s/it]\n",
      "Epoch 6:\tTest Error: (Avg loss: 0.013894) 3s/it]\n",
      "Epoch 7:\tTest Error: (Avg loss: 0.013844) 5s/it]\n",
      "Epoch 7:\tTest Error: (Avg loss: 0.013844) 5s/it]\n",
      "Epoch 8:\tTest Error: (Avg loss: 0.013672) 1s/it]\n",
      "Epoch 8:\tTest Error: (Avg loss: 0.013672) 1s/it]\n",
      "Epoch 9:\tTest Error: (Avg loss: 0.013541) 3s/it]\n",
      "Epoch 9:\tTest Error: (Avg loss: 0.013541) 3s/it]\n",
      ": 100%|██████████| 10/10 [01:47<00:00, 10.79s/it]"
     ]
    },
    {
     "name": "stdout",
     "output_type": "stream",
     "text": [
      "Done!\n"
     ]
    }
   ],
   "source": [
    "\n",
    "train_dataloader = DataLoader(training_data, batch_size=batch_size)\n",
    "test_dataloader = DataLoader(test_data, batch_size=batch_size)\n",
    "p = tqdm(range(epochs), position=0)\n",
    "# with p as outer:\n",
    "for t in range(epochs):\n",
    "    # print(f\"Epoch {t+1}\\n-------------------------------\")\n",
    "    train_loop(train_dataloader, model, loss_fn, optimizer)\n",
    "    L, C = test_loop(test_dataloader, model, loss_fn, t, p)\n",
    "    losses.append(L)\n",
    "    corrects.append(C)\n",
    "print(\"Done!\")"
   ]
  },
  {
   "cell_type": "code",
   "execution_count": 165,
   "id": "07b39466",
   "metadata": {},
   "outputs": [
    {
     "data": {
      "text/plain": [
       "Text(0.5, 1.0, 'Final Loss: 0.013541309922269195')"
      ]
     },
     "execution_count": 165,
     "metadata": {},
     "output_type": "execute_result"
    },
    {
     "data": {
      "image/png": "[encoded data removed]",
      "text/plain": [
       "<Figure size 640x480 with 1 Axes>"
      ]
     },
     "metadata": {},
     "output_type": "display_data"
    }
   ],
   "source": [
    "plt.plot(losses)\n",
    "plt.title(f'Final Loss: {losses[-1]}')"
   ]
  },
  {
   "cell_type": "code",
   "execution_count": 142,
   "id": "9ef6b3bd-53de-4565-b15c-f805af01473c",
   "metadata": {},
   "outputs": [],
   "source": [
    "index = 0\n",
    "def show_pred(model, img, label):\n",
    "    f, ax = plt.subplots(1,2)\n",
    "    flat = img.reshape(-1, 28 * 28)\n",
    "    pred = model(flat)\n",
    "    pred_img = pred.reshape(-1, 28, 28)\n",
    "    ax[0].imshow(img.squeeze(), cmap='gray')\n",
    "    ax[1].imshow(pred_img.detach().squeeze(), cmap='gray')\n",
    "    label_idx = np.argmax(label).detach().numpy()\n",
    "    f.suptitle(class_names[label_idx])\n",
    "    plt.show()"
   ]
  },
  {
   "cell_type": "code",
   "execution_count": 143,
   "id": "5976eb91",
   "metadata": {},
   "outputs": [
    {
     "data": {
      "image/png": "[encoded data removed]",
      "text/plain": [
       "<Figure size 640x480 with 2 Axes>"
      ]
     },
     "metadata": {},
     "output_type": "display_data"
    },
    {
     "name": "stdout",
     "output_type": "stream",
     "text": [
      "0.014705604719365857\n"
     ]
    }
   ],
   "source": [
    "show_pred(model, *test_data[index])\n",
    "print(losses[-1])"
   ]
  },
  {
   "cell_type": "code",
   "execution_count": 169,
   "id": "40dcf5d2",
   "metadata": {},
   "outputs": [],
   "source": [
    "# Additional information\n",
    "EPOCH = 5\n",
    "PATH = \"model.pt\"\n",
    "LOSS = losses[-1]\n",
    "\n",
    "torch.save({\n",
    "            'epoch': EPOCH,\n",
    "            'model_state_dict': model.state_dict(),\n",
    "            'optimizer_state_dict': optimizer.state_dict(),\n",
    "            'loss': LOSS,\n",
    "            }, PATH)"
   ]
  },
  {
   "cell_type": "code",
   "execution_count": 170,
   "id": "deb40d69",
   "metadata": {},
   "outputs": [
    {
     "name": "stdout",
     "output_type": "stream",
     "text": [
      "[Sequential(\n",
      "  (0): Linear(in_features=784, out_features=556, bias=True)\n",
      "  (1): ReLU()\n",
      "), Sequential(\n",
      "  (0): Linear(in_features=556, out_features=328, bias=True)\n",
      "  (1): ReLU()\n",
      "), Sequential(\n",
      "  (0): Linear(in_features=328, out_features=100, bias=True)\n",
      "  (1): ReLU()\n",
      ")]\n",
      "[Sequential(\n",
      "  (0): Linear(in_features=100, out_features=328, bias=True)\n",
      "  (1): ReLU()\n",
      "), Sequential(\n",
      "  (0): Linear(in_features=328, out_features=556, bias=True)\n",
      "  (1): ReLU()\n",
      "), Sequential(\n",
      "  (0): Linear(in_features=556, out_features=784, bias=True)\n",
      "  (1): ReLU()\n",
      ")]\n",
      "0.013541309922269195\n"
     ]
    }
   ],
   "source": [
    "checkpoint = torch.load(PATH)\n",
    "loaded_model = AutoEncoder(\n",
    "    input_dim = 28 * 28, \n",
    "    encoder_size = 3,\n",
    "    decoder_size = 3,\n",
    "    n_layers = 1, \n",
    "    layer_dim = 100).to(device)\n",
    "loaded_model.load_state_dict(checkpoint['model_state_dict'])\n",
    "loaded_opt = torch.optim.Adam(model.parameters(), lr=learning_rate)\n",
    "loaded_opt.load_state_dict(checkpoint['optimizer_state_dict'])\n",
    "epoch = checkpoint['epoch']\n",
    "loss = checkpoint['loss']\n",
    "print(loss)"
   ]
  },
  {
   "cell_type": "code",
   "execution_count": 149,
   "id": "387a67a8",
   "metadata": {},
   "outputs": [
    {
     "data": {
      "image/png": "[encoded data removed]",
      "text/plain": [
       "<Figure size 640x480 with 2 Axes>"
      ]
     },
     "metadata": {},
     "output_type": "display_data"
    }
   ],
   "source": [
    "show_pred(loaded_model, *training_data[50301])"
   ]
  },
  {
   "cell_type": "code",
   "execution_count": 166,
   "id": "51066789",
   "metadata": {},
   "outputs": [],
   "source": [
    "# Additional information\n",
    "PATH = \"autoencoder.model\"\n",
    "\n",
    "torch.save(model, PATH)"
   ]
  },
  {
   "cell_type": "code",
   "execution_count": null,
   "id": "52f5f540",
   "metadata": {},
   "outputs": [],
   "source": []
  }
 ],
 "metadata": {
  "kernelspec": {
   "display_name": "Python 3 (ipykernel)",
   "language": "python",
   "name": "python3"
  },
  "language_info": {
   "codemirror_mode": {
    "name": "ipython",
    "version": 3
   },
   "file_extension": ".py",
   "mimetype": "text/x-python",
   "name": "python",
   "nbconvert_exporter": "python",
   "pygments_lexer": "ipython3",
   "version": "3.9.6"
  }
 },
 "nbformat": 4,
 "nbformat_minor": 5
}
