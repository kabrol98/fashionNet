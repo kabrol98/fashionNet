{
 "cells": [
  {
   "cell_type": "code",
   "execution_count": 1,
   "id": "5b400812-cbab-42df-bedd-d2c356d2fb95",
   "metadata": {},
   "outputs": [],
   "source": [
    "# Load FashionMNIST Dataset\n",
    "import torch\n",
    "from torch import nn\n",
    "from torch.utils.data import Dataset, DataLoader\n",
    "from torchvision import datasets\n",
    "from torchvision.transforms import ToTensor, Lambda\n",
    "import matplotlib.pyplot as plt\n",
    "from tqdm import tqdm, trange\n",
    "from custom_models import KCNN\n",
    "\n",
    "\n",
    "training_data = datasets.FashionMNIST(\n",
    "    root=\"data\",\n",
    "    train=True,\n",
    "    download=True,\n",
    "    transform=ToTensor(),\n",
    "    target_transform=Lambda(lambda y: torch.zeros(10, dtype=torch.float).scatter_(0, torch.tensor(y), value=1))\n",
    ")\n",
    "\n",
    "test_data = datasets.FashionMNIST(\n",
    "    root=\"data\",\n",
    "    train=False,\n",
    "    download=True,\n",
    "    transform=ToTensor(),\n",
    "    target_transform=Lambda(lambda y: torch.zeros(10, dtype=torch.float).scatter_(0, torch.tensor(y), value=1))\n",
    ")"
   ]
  },
  {
   "cell_type": "code",
   "execution_count": 2,
   "id": "5cea100d-618c-4e31-9495-68470ab88a66",
   "metadata": {},
   "outputs": [
    {
     "data": {
      "image/png": "[encoded data removed]",
      "text/plain": [
       "<Figure size 640x480 with 1 Axes>"
      ]
     },
     "metadata": {},
     "output_type": "display_data"
    }
   ],
   "source": [
    "index = 0\n",
    "img, label = training_data[index]\n",
    "plt.imshow(img.squeeze(), cmap='gray')\n",
    "plt.title(label)\n",
    "plt.show()"
   ]
  },
  {
   "cell_type": "code",
   "execution_count": 3,
   "id": "39be79be-8f18-4dd7-8a00-241234f7e44c",
   "metadata": {},
   "outputs": [
    {
     "name": "stdout",
     "output_type": "stream",
     "text": [
      "Using cpu device\n"
     ]
    }
   ],
   "source": [
    "device = (\n",
    "    \"cuda\"\n",
    "    if torch.cuda.is_available()\n",
    "    else \"mps\"\n",
    "    if torch.backends.mps.is_available()\n",
    "    else \"cpu\"\n",
    ")\n",
    "device=\"cpu\"\n",
    "print(f\"Using {device} device\")"
   ]
  },
  {
   "cell_type": "code",
   "execution_count": 4,
   "id": "f1d614cb-1b18-4a60-9da1-9b187e415320",
   "metadata": {},
   "outputs": [
    {
     "name": "stdout",
     "output_type": "stream",
     "text": [
      "KCNN(\n",
      "  (conv1): Sequential(\n",
      "    (0): Conv2d(1, 6, kernel_size=(3, 3), stride=(1, 1))\n",
      "    (1): ReLU()\n",
      "    (2): MaxPool2d(kernel_size=2, stride=2, padding=0, dilation=1, ceil_mode=False)\n",
      "  )\n",
      "  (conv2): Sequential(\n",
      "    (0): Conv2d(6, 20, kernel_size=(3, 3), stride=(1, 1))\n",
      "    (1): ReLU()\n",
      "    (2): MaxPool2d(kernel_size=2, stride=2, padding=0, dilation=1, ceil_mode=False)\n",
      "  )\n",
      "  (flatten): Flatten(start_dim=1, end_dim=-1)\n",
      "  (intro): Sequential(\n",
      "    (0): Linear(in_features=500, out_features=200, bias=True)\n",
      "    (1): ReLU()\n",
      "  )\n",
      "  (out): Sequential(\n",
      "    (0): Linear(in_features=200, out_features=10, bias=True)\n",
      "    (1): Softmax(dim=1)\n",
      "  )\n",
      ")\n"
     ]
    }
   ],
   "source": [
    "model = KCNN(28 * 28, 10, 3, 200).to(device)\n",
    "print(model)"
   ]
  },
  {
   "cell_type": "code",
   "execution_count": 5,
   "id": "447bf0ab-2088-42a3-9185-ad629e3dfbba",
   "metadata": {},
   "outputs": [],
   "source": [
    "# Training loop\n",
    "learning_rate = 1e-3\n",
    "batch_size = 64\n",
    "epochs = 10\n",
    "# Initialize the loss function\n",
    "loss_fn = nn.CrossEntropyLoss()\n",
    "\n",
    "optimizer = torch.optim.Adam(model.parameters(), lr=learning_rate)\n",
    "\n",
    "def train_loop(dataloader, model, loss_fn, optimizer):\n",
    "    size = len(dataloader.dataset)\n",
    "    # Set the model to training mode - important for batch normalization and dropout layers\n",
    "    # Unnecessary in this situation but added for best practices\n",
    "    model.train()\n",
    "    t = tqdm(total = len(dataloader), position=1)\n",
    "    with t as pbar:\n",
    "        for batch, (X, y) in enumerate(dataloader):\n",
    "            # Compute prediction and loss\n",
    "            pred = model(X)\n",
    "            loss = loss_fn(pred, y)\n",
    "\n",
    "            # Backpropagation\n",
    "            loss.backward()\n",
    "            optimizer.step()\n",
    "            optimizer.zero_grad()\n",
    "\n",
    "            if batch % 100 == 0:\n",
    "                loss, current = loss.item(), (batch + 1) * len(X)\n",
    "                pbar.set_description(f\"\\tTraining:\\tloss: {loss:>4f}, curr: {current}\")\n",
    "            pbar.update(1)\n",
    "\n",
    "\n",
    "def test_loop(dataloader, model, loss_fn, pbar):\n",
    "    # Set the model to evaluation mode - important for batch normalization and dropout layers\n",
    "    # Unnecessary in this situation but added for best practices\n",
    "    model.eval()\n",
    "    size = len(dataloader.dataset)\n",
    "    num_batches = len(dataloader)\n",
    "    test_loss, correct = 0, 0\n",
    "\n",
    "    # Evaluating the model with torch.no_grad() ensures that no gradients are computed during test mode\n",
    "    # also serves to reduce unnecessary gradient computations and memory usage for tensors with requires_grad=True\n",
    "    with torch.no_grad():\n",
    "        for X, y in dataloader:\n",
    "            pred = model(X)\n",
    "            test_loss += loss_fn(pred, y).item()\n",
    "            correct += (pred.argmax(1) == y.argmax(1)).type(torch.float).sum().item()\n",
    "\n",
    "    test_loss /= num_batches\n",
    "    correct /= size\n",
    "    pbar.set_description(f\"Epoch {pbar.n}:\\tTest Error: (Accuracy: {(100*correct):>0.1f}%, Avg loss: {test_loss:>4f}) \\n\")\n",
    "    pbar.update(1)\n",
    "    return test_loss, correct"
   ]
  },
  {
   "cell_type": "code",
   "execution_count": 27,
   "id": "645dedcb-032a-4057-88e1-0acfe1c4169c",
   "metadata": {},
   "outputs": [
    {
     "name": "stderr",
     "output_type": "stream",
     "text": [
      "\tTraining:\tloss: 1.620124, curr: 57664: 100%|██████████| 938/938 [00:12<00:00, 75.00it/s]\n",
      "Epoch 0:\tTest Error: (Accuracy: 84.7%, Avg loss: 1.613992) \n",
      "Epoch 0:\tTest Error: (Accuracy: 84.7%, Avg loss: 1.613992) \n",
      "\tTraining:\tloss: 1.612383, curr: 57664: 100%|██████████| 938/938 [00:12<00:00, 75.04it/s]\n",
      "Epoch 1:\tTest Error: (Accuracy: 85.0%, Avg loss: 1.610764) \n",
      "Epoch 1:\tTest Error: (Accuracy: 85.0%, Avg loss: 1.610764) \n",
      "\tTraining:\tloss: 1.608627, curr: 57664: 100%|██████████| 938/938 [00:12<00:00, 77.26it/s]\n",
      "Epoch 2:\tTest Error: (Accuracy: 85.2%, Avg loss: 1.608155) \n",
      "Epoch 2:\tTest Error: (Accuracy: 85.2%, Avg loss: 1.608155) \n",
      "\tTraining:\tloss: 1.591908, curr: 57664: 100%|██████████| 938/938 [00:12<00:00, 76.25it/s]\n",
      "Epoch 3:\tTest Error: (Accuracy: 85.5%, Avg loss: 1.605251) \n",
      "Epoch 3:\tTest Error: (Accuracy: 85.5%, Avg loss: 1.605251) \n",
      "\tTraining:\tloss: 1.587747, curr: 57664: 100%|██████████| 938/938 [00:12<00:00, 75.79it/s]\n",
      "Epoch 4:\tTest Error: (Accuracy: 86.4%, Avg loss: 1.596570) \n",
      "Epoch 4:\tTest Error: (Accuracy: 86.4%, Avg loss: 1.596570) \n",
      "\tTraining:\tloss: 1.600410, curr: 57664: 100%|██████████| 938/938 [00:12<00:00, 76.62it/s]\n",
      "Epoch 5:\tTest Error: (Accuracy: 85.9%, Avg loss: 1.602050) \n",
      "Epoch 5:\tTest Error: (Accuracy: 85.9%, Avg loss: 1.602050) \n",
      ":  60%|██████    | 6/10 [01:17<00:51, 12.92s/it]"
     ]
    }
   ],
   "source": [
    "\n",
    "train_dataloader = DataLoader(training_data, batch_size=batch_size)\n",
    "test_dataloader = DataLoader(test_data, batch_size=batch_size)\n",
    "losses, corrects = [], []\n",
    "p = tqdm(range(epochs), position=0, desc='Epoch 1...')\n",
    "with p as pbar:\n",
    "    for t in range(epochs):\n",
    "        # print(f\"Epoch {t+1}\\n-------------------------------\")\n",
    "        train_loop(train_dataloader, model, loss_fn, optimizer)\n",
    "        L, C = test_loop(test_dataloader, model, loss_fn, pbar)\n",
    "        losses.append(L)\n",
    "        corrects.append(C)\n",
    "print(\"Done!\")"
   ]
  },
  {
   "cell_type": "code",
   "execution_count": null,
   "id": "9ef6b3bd-53de-4565-b15c-f805af01473c",
   "metadata": {},
   "outputs": [],
   "source": []
  },
  {
   "cell_type": "code",
   "execution_count": null,
   "id": "5976eb91",
   "metadata": {},
   "outputs": [],
   "source": []
  }
 ],
 "metadata": {
  "kernelspec": {
   "display_name": "Python 3 (ipykernel)",
   "language": "python",
   "name": "python3"
  },
  "language_info": {
   "codemirror_mode": {
    "name": "ipython",
    "version": 3
   },
   "file_extension": ".py",
   "mimetype": "text/x-python",
   "name": "python",
   "nbconvert_exporter": "python",
   "pygments_lexer": "ipython3",
   "version": "3.9.6"
  }
 },
 "nbformat": 4,
 "nbformat_minor": 5
}
