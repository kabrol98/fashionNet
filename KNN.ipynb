{
 "cells": [
  {
   "cell_type": "markdown",
   "metadata": {},
   "source": [
    "### For an implementation of HNSW we first need to import the data AND an encoder.\n",
    "### Luckily AutoEncoder.ipynb has trained an encoder using an autoencoder."
   ]
  },
  {
   "cell_type": "code",
   "execution_count": 198,
   "metadata": {},
   "outputs": [],
   "source": [
    "# Load FashionMNIST Dataset\n",
    "import torch\n",
    "from torch import nn\n",
    "import torch.nn.functional as F\n",
    "from torch.utils.data import Dataset, DataLoader\n",
    "from torchvision import datasets\n",
    "from torchvision.transforms import ToTensor, Lambda\n",
    "import matplotlib.pyplot as plt\n",
    "from tqdm import tqdm, trange\n",
    "import numpy as np\n",
    "import importlib\n",
    "# Reload custom modules in case of refresh\n",
    "import custom_models\n",
    "importlib.reload(custom_models)\n",
    "from custom_models import AutoEncoder, Linspace\n",
    "from heapq import heapify, heappush, heappop, nsmallest, merge\n",
    "from random import randrange\n",
    "from time import time\n",
    "\n",
    "training_data = datasets.FashionMNIST(\n",
    "    root=\"data\",\n",
    "    train=True,\n",
    "    download=True,\n",
    "    transform=ToTensor(),\n",
    "    target_transform=Lambda(lambda y: torch.zeros(10, dtype=torch.float).scatter_(0, torch.tensor(y), value=1))\n",
    ")\n",
    "\n",
    "test_data = datasets.FashionMNIST(\n",
    "    root=\"data\",\n",
    "    train=False,\n",
    "    download=True,\n",
    "    transform=ToTensor(),\n",
    "    target_transform=Lambda(lambda y: torch.zeros(10, dtype=torch.float).scatter_(0, torch.tensor(y), value=1))\n",
    ")\n",
    "\n",
    "class_names = [\n",
    "    'T-shirt/top',\n",
    "    'Trouser',\n",
    "    'Pullover',\n",
    "    'Dress',\n",
    "    'Coat',\n",
    "    'Sandal',\n",
    "    'Shirt',\n",
    "    'Sneaker',\n",
    "    'Bag',\n",
    "    'Ankle boot'\n",
    "]"
   ]
  },
  {
   "cell_type": "code",
   "execution_count": 199,
   "metadata": {},
   "outputs": [
    {
     "name": "stdout",
     "output_type": "stream",
     "text": [
      "AutoEncoder(\n",
      "  (Encoder): Linspace(\n",
      "    (full_model): Sequential(\n",
      "      (0): Sequential(\n",
      "        (0): Linear(in_features=784, out_features=556, bias=True)\n",
      "        (1): ReLU()\n",
      "      )\n",
      "      (1): Sequential(\n",
      "        (0): Linear(in_features=556, out_features=328, bias=True)\n",
      "        (1): ReLU()\n",
      "      )\n",
      "      (2): Sequential(\n",
      "        (0): Linear(in_features=328, out_features=100, bias=True)\n",
      "        (1): ReLU()\n",
      "      )\n",
      "    )\n",
      "  )\n",
      "  (Decoder): Linspace(\n",
      "    (full_model): Sequential(\n",
      "      (0): Sequential(\n",
      "        (0): Linear(in_features=100, out_features=328, bias=True)\n",
      "        (1): ReLU()\n",
      "      )\n",
      "      (1): Sequential(\n",
      "        (0): Linear(in_features=328, out_features=556, bias=True)\n",
      "        (1): ReLU()\n",
      "      )\n",
      "      (2): Sequential(\n",
      "        (0): Linear(in_features=556, out_features=784, bias=True)\n",
      "        (1): ReLU()\n",
      "      )\n",
      "    )\n",
      "  )\n",
      "  (full_model): Sequential(\n",
      "    (0): Linspace(\n",
      "      (full_model): Sequential(\n",
      "        (0): Sequential(\n",
      "          (0): Linear(in_features=784, out_features=556, bias=True)\n",
      "          (1): ReLU()\n",
      "        )\n",
      "        (1): Sequential(\n",
      "          (0): Linear(in_features=556, out_features=328, bias=True)\n",
      "          (1): ReLU()\n",
      "        )\n",
      "        (2): Sequential(\n",
      "          (0): Linear(in_features=328, out_features=100, bias=True)\n",
      "          (1): ReLU()\n",
      "        )\n",
      "      )\n",
      "    )\n",
      "    (1): Linspace(\n",
      "      (full_model): Sequential(\n",
      "        (0): Sequential(\n",
      "          (0): Linear(in_features=100, out_features=328, bias=True)\n",
      "          (1): ReLU()\n",
      "        )\n",
      "        (1): Sequential(\n",
      "          (0): Linear(in_features=328, out_features=556, bias=True)\n",
      "          (1): ReLU()\n",
      "        )\n",
      "        (2): Sequential(\n",
      "          (0): Linear(in_features=556, out_features=784, bias=True)\n",
      "          (1): ReLU()\n",
      "        )\n",
      "      )\n",
      "    )\n",
      "  )\n",
      ")\n"
     ]
    }
   ],
   "source": [
    "\n",
    "auto_enc_path = \"autoencoder.model\"\n",
    "\n",
    "autoenc = torch.load(auto_enc_path)\n",
    "autoenc.eval()\n",
    "print(autoenc)"
   ]
  },
  {
   "cell_type": "code",
   "execution_count": 201,
   "metadata": {},
   "outputs": [
    {
     "name": "stdout",
     "output_type": "stream",
     "text": [
      "tensor([[0.0000, 0.0000, 1.2543, 0.0000, 0.0000, 0.3116, 0.0000, 0.3030, 0.7631,\n",
      "         0.8196, 0.0000, 1.7609, 0.0000, 0.2291, 0.0000, 0.0000, 0.0000, 1.0881,\n",
      "         2.2962, 0.3158, 0.0000, 0.5451, 0.0000, 0.5175, 0.6415, 0.0000, 1.8303,\n",
      "         0.7220, 0.0000, 0.0000, 2.0184, 0.5886, 0.5796, 0.0000, 0.7984, 1.3519,\n",
      "         0.6037, 0.0000, 0.1794, 0.0000, 0.0000, 0.1343, 1.1280, 0.4201, 0.0000,\n",
      "         0.0000, 0.5975, 0.4980, 1.4624, 0.6495, 0.0959, 0.0000, 0.3794, 0.0000,\n",
      "         0.0000, 0.4647, 0.7303, 0.7141, 0.7748, 0.8357, 0.0000, 0.1220, 0.0000,\n",
      "         0.0000, 0.2866, 0.0000, 1.8208, 0.0000, 0.2873, 0.0000, 0.0000, 0.0000,\n",
      "         0.0000, 0.0000, 0.9418, 0.0000, 0.0000, 0.0000, 0.0000, 0.3556, 0.5633,\n",
      "         0.0000, 0.0000, 0.3923, 0.0000, 0.0000, 0.9143, 0.0000, 0.1469, 0.0000,\n",
      "         1.4023, 0.8872, 0.7862, 1.7954, 0.0000, 0.0000, 0.0000, 0.4692, 0.0000,\n",
      "         0.0607]], grad_fn=<ReluBackward0>)\n"
     ]
    }
   ],
   "source": [
    "# Extract the Encoder from AutoEncoder\n",
    "encoder = autoenc.Encoder\n",
    "decoder = autoenc.Decoder\n",
    "\n",
    "in_img, in_label = training_data[50301]\n",
    "flat = in_img.reshape(-1, 28 * 28)\n",
    "mid = encoder(flat)\n",
    "pred = decoder(mid) #autoenc(flat)\n",
    "out_img = pred.reshape(-1, 28, 28)\n",
    "\n",
    "\n",
    "# Reshape Encoded image to display in grid fmt\n",
    "mid_img = mid.reshape(-1, 10, 10)\n",
    "print(mid)"
   ]
  },
  {
   "cell_type": "code",
   "execution_count": 202,
   "metadata": {},
   "outputs": [
    {
     "data": {
      "image/png": "[encoded data removed]",
      "text/plain": [
       "<Figure size 640x480 with 3 Axes>"
      ]
     },
     "metadata": {},
     "output_type": "display_data"
    }
   ],
   "source": [
    "f, ax = plt.subplots(1,3)\n",
    "# display input img\n",
    "ax[0].imshow(in_img.squeeze(), cmap='gray')\n",
    "# display output img\n",
    "ax[2].imshow(out_img.detach().squeeze(), cmap='gray')\n",
    "# display mid img\n",
    "ax[1].imshow(mid_img.detach().squeeze(), cmap='gray')\n",
    "label_idx = np.argmax(in_label).detach().numpy()\n",
    "f.suptitle(class_names[label_idx])\n",
    "plt.show()"
   ]
  },
  {
   "cell_type": "markdown",
   "metadata": {},
   "source": [
    "Let's try building some KNN data structures/ Vector databases in which we can throw in encoded images"
   ]
  },
  {
   "cell_type": "code",
   "execution_count": 228,
   "metadata": {},
   "outputs": [],
   "source": [
    "# Attempt 1: Navigable small world.\n",
    "class NSW():\n",
    "\n",
    "    def _greedy_search_helper(self, curr, vec, visited, results, k=3):\n",
    "        # given a query vector, search the graph from the current node idx\n",
    "\n",
    "        # mark curr visited\n",
    "        visited.add(curr)\n",
    "        # dereference data to get curr vector\n",
    "        curr_vec = self.data[curr]\n",
    "        # baseline distance determines if we're at a local minima\n",
    "        baseline_dist = self.sim(curr_vec, vec)\n",
    "        # dereference curr to get neighbors\n",
    "        neighbors = self.graph[curr]\n",
    "        neighbor_idx = [n[1] for n in neighbors]\n",
    "\n",
    "        # store the neighbor's distance and index in neighbor_dist\n",
    "        neighbor_dist = [(self.sim(self.data[n],vec), n)  for n in neighbor_idx]\n",
    "        # neighbor_dist = []\n",
    "        # for n in neighbor_idx:\n",
    "        #     print(n)\n",
    "        #     v1, v2 = self.data[n], vec\n",
    "        #     print(v1.shape, v2.shape)\n",
    "        #     s = self.sim(v1, v2)\n",
    "        #     print(s)\n",
    "        #     neighbor_dist.append(s,n)\n",
    "        # heapify list\n",
    "        heapify(neighbor_dist)\n",
    "        # neighbor_dist[0][0] is the distance of the closest neighbor. \n",
    "        # If it's larger than baseline, then return, because we've hit a local minima\n",
    "        if (neighbor_dist[0][0] > baseline_dist):\n",
    "            return nsmallest(k,results)\n",
    "        \n",
    "        # Otherwise find the next unvisited node\n",
    "        nearest = curr\n",
    "        while nearest in visited and len(neighbor_dist):\n",
    "            nearest = heappop(neighbor_dist)\n",
    "            heappush(results, nearest)\n",
    "            pass\n",
    "        \n",
    "        # If visited all neighbors, we can cancel the search, otherwise continue.\n",
    "        if nearest:\n",
    "            return self._greedy_search_helper(nearest[1], vec, visited, results, k)\n",
    "        else:\n",
    "            return nsmallest(k,results)\n",
    "\n",
    "        pass\n",
    "\n",
    "    def _greedy_search(self, vec, k=3):\n",
    "        # Initialize visited as empty\n",
    "        visited = set()\n",
    "        # Initialize results as first k values in data\n",
    "        results = [(self.sim(self.data[I], vec), self.root) for I in range(k)]\n",
    "        # call helper function from the root\n",
    "        return self._greedy_search_helper(self.root, vec, visited, results)\n",
    "\n",
    "    def _conn(self, ida, idb): # idx of two graph members.\n",
    "        # make sure graph is accessible.\n",
    "        assert ida < len(self.data), f\"index of conn is out of range ({ida} >= {len(self.data)})\"\n",
    "        assert idb < len(self.data), f\"index of conn is out of range ({idb} >= {len(self.data)})\"\n",
    "        # Get distance by dereferencing ids\n",
    "        veca, vecb = self.data[ida], self.data[idb]\n",
    "        dist = self.sim(veca, vecb)\n",
    "        # push to both nodes' adj lists (using heaps!)\n",
    "        heappush(self.graph[ida], (dist, idb))\n",
    "        heappush(self.graph[idb], (dist, ida))\n",
    "\n",
    "    def __init__(\n",
    "            self,\n",
    "            M = 8,\n",
    "            theta = 0,\n",
    "            sim = F.cosine_similarity, \n",
    "            root = None):\n",
    "        # Use cosine similarity by default\n",
    "        self.sim = sim\n",
    "        # Root node will always begin the search\n",
    "        self.root = None\n",
    "        # Dim must always be agreed upon (only initialized on first vector)\n",
    "        self.dim = None\n",
    "        # Master dataset\n",
    "        self.data = []\n",
    "        # Graph will define graph search\n",
    "        self.graph = []\n",
    "        # Let M be the maximum number of allowed connections \n",
    "        self.M = M\n",
    "        # Let m be the minimum number of allowed connections\n",
    "        self.m = M // 2\n",
    "        # Let theta be the number of times we perform a random search before returning KNN\n",
    "        self.theta = theta\n",
    "        assert theta >= 0, \"Please enter a valid value of theta (int >= 0)\"\n",
    "        # If a root vector was specified, then we can start off by initializing root and dim\n",
    "        if root:\n",
    "            self.insert(root)\n",
    "        pass\n",
    "\n",
    "    def insert(self, vec):\n",
    "        # Insert vec into data structure\n",
    "        if len(self.data) == 0:\n",
    "            # Add element to data list and graph.\n",
    "            self.data.append(vec)\n",
    "            self.graph.append([])\n",
    "            # Set element to root, determine dimensions of data.\n",
    "            self.root = 0\n",
    "            self.dim  = vec.shape\n",
    "            return\n",
    "        \n",
    "        # Make sure dimensions agree\n",
    "        assert self.dim == vec.shape, f\"Dimensions of vector must match data structure: expected {self.dim}, got {vec.shape}\"\n",
    "\n",
    "        # push into graph\n",
    "        idx = len(self.data) # this node's idx will be idx.\n",
    "        self.data.append(vec)\n",
    "        self.graph.append([])\n",
    "\n",
    "        # If the dataset is less than M (number of connections to be made), connect to root\n",
    "        if len(self.data) < self.m:\n",
    "            self._conn(self.root, idx)\n",
    "        else:\n",
    "            # connect the m nearest neighbors of the vector, making sure that we only keep the best self.M nodes.\n",
    "            knn = self._greedy_search(vec, k=self.m)\n",
    "            for _ , node in knn:\n",
    "                self._conn(node, idx)\n",
    "\n",
    "        \n",
    "        # sanity check!\n",
    "        assert len(self.data) == len(self.graph), f\"data len != graph len ({len(self.data)}, {len(self.graph)})\"\n",
    "        self.sanity_check()\n",
    "        pass\n",
    "\n",
    "    def lookup(self, vec, k = 3, dist=False):\n",
    "        if len(self.data) < k:\n",
    "            return self.data\n",
    "        else:\n",
    "            self.sanity_check()\n",
    "        # Perform K Nearest neighbor search from root\n",
    "        final = self._greedy_search(vec, k)\n",
    "        # Perform additional searches from random starting nodes\n",
    "        for i in range(self.theta):\n",
    "            start = randrange(len(self.data))\n",
    "            res = self._greedy_search(start, k)\n",
    "            final = nsmallest(k,merge(final, res))\n",
    "\n",
    "        dist_list = [d[0] for d in final]\n",
    "        idx_list = [d[1] for d in final]\n",
    "        data_list = [self.data[i] for i in idx_list]\n",
    "        if dist:\n",
    "            return data_list, dist_list\n",
    "        else:\n",
    "            return data_list\n",
    "    \n",
    "    def sanity_check(self):\n",
    "        # Make sure the graph has no over or under-connected nodes!\n",
    "        for i,g in enumerate(self.graph):\n",
    "            assert len(g) > 0, f\"graph element {i} has no neigbours after {len(self.data)} inserts!\"\n",
    "        return\n",
    "\n"
   ]
  },
  {
   "cell_type": "code",
   "execution_count": 229,
   "metadata": {},
   "outputs": [
    {
     "name": "stdout",
     "output_type": "stream",
     "text": [
      "60000\n"
     ]
    }
   ],
   "source": [
    "size = len(training_data)\n",
    "print(size)"
   ]
  },
  {
   "cell_type": "code",
   "execution_count": 243,
   "metadata": {},
   "outputs": [
    {
     "name": "stderr",
     "output_type": "stream",
     "text": [
      "Curr query time 6.98E-03:   0%|          | 0/500 [00:00<?, ?it/s]"
     ]
    },
    {
     "name": "stderr",
     "output_type": "stream",
     "text": [
      "Curr query time 9.79E+00: 100%|██████████| 500/500 [00:27<00:00, 17.93it/s]\n"
     ]
    }
   ],
   "source": [
    "# initialize NSW with random values.\n",
    "euclidean = lambda t1, t2 : (t1 - t2).pow(2).sum().sqrt()\n",
    "nsw = NSW(sim=euclidean)\n",
    "# Benchark NSW against size of dataset.\n",
    "def fill_db(db, num_items):\n",
    "    def gen_random_query():\n",
    "        random_query = torch.tensor( # convert to tensor\n",
    "        np.maximum(0, # apply relu\n",
    "            np.random.uniform( # uniform from -1 to 1\n",
    "                low=-1.0,\n",
    "                high=1.0,\n",
    "                size=(1,100)))) # encoding size\n",
    "        return random_query\n",
    "\n",
    "    insert_times = []\n",
    "    db_sizes, query_times = [], []\n",
    "    # shuffle training data.\n",
    "    for i in (t := trange(num_items)):\n",
    "        query_img, query_label = training_data[i]\n",
    "        query_flat = query_img.reshape(-1, 28 * 28)\n",
    "        query_enc = encoder(query_flat)\n",
    "        # time inserts as size increases\n",
    "        start_time = time()\n",
    "        db.insert(query_enc)\n",
    "        end_time = time()\n",
    "        insert_time = end_time - start_time\n",
    "        insert_times.append(insert_time)\n",
    "        # Monitor query time every 100 steps\n",
    "        if i % 100 == 0:\n",
    "            start_time = time()\n",
    "            for _ in range(1000):\n",
    "                r = gen_random_query()\n",
    "                _ = db.lookup(r, k = 3)\n",
    "            end_time = time()\n",
    "            query_time = end_time - start_time\n",
    "            query_times.append(query_time)\n",
    "            db_sizes.append(i)\n",
    "        t.set_description(f'Curr query time {query_time:.2E}')\n",
    "    return insert_times, query_times, db_sizes\n",
    "insert_times, query_times, db_sizes = fill_db(nsw, 500)"
   ]
  },
  {
   "cell_type": "code",
   "execution_count": 236,
   "metadata": {},
   "outputs": [
    {
     "data": {
      "text/plain": [
       "Text(0.5, 0, 'DB size')"
      ]
     },
     "execution_count": 236,
     "metadata": {},
     "output_type": "execute_result"
    },
    {
     "data": {
      "image/png": "[encoded data removed]",
      "text/plain": [
       "<Figure size 640x480 with 2 Axes>"
      ]
     },
     "metadata": {},
     "output_type": "display_data"
    }
   ],
   "source": [
    "f, ax = plt.subplots(1,2) \n",
    "# insert times\n",
    "ax[0].plot(insert_times)\n",
    "ax[0].set_title('Insert times')\n",
    "ax[0].set_xlabel('DB size')\n",
    "# query times\n",
    "ax[1].plot(db_sizes, query_times)\n",
    "ax[1].set_title('Query times (per 100 queries)')\n",
    "ax[1].set_xlabel('DB size')"
   ]
  },
  {
   "cell_type": "code",
   "execution_count": 239,
   "metadata": {},
   "outputs": [
    {
     "name": "stdout",
     "output_type": "stream",
     "text": [
      "torch.Size([28, 28])\n",
      "torch.Size([28, 28])\n",
      "torch.Size([28, 28])\n",
      "torch.Size([28, 28])\n"
     ]
    },
    {
     "data": {
      "text/plain": [
       "Text(0.5, 1.0, 'neighbor 3 (dist=4.88E+00)')"
      ]
     },
     "execution_count": 239,
     "metadata": {},
     "output_type": "execute_result"
    },
    {
     "data": {
      "image/png": "[encoded data removed]",
      "text/plain": [
       "<Figure size 640x480 with 4 Axes>"
      ]
     },
     "metadata": {},
     "output_type": "display_data"
    }
   ],
   "source": [
    "def plot_encoded(axis, vec, decoder):\n",
    "    out = decoder(vec)\n",
    "    out_img = out.reshape(-1, 28, 28)\n",
    "    out_img = out_img.detach().squeeze()\n",
    "    print(out_img.shape)\n",
    "    axis.imshow(out_img, cmap='gray')\n",
    "    pass\n",
    "neighbors, dist = nsw.lookup(mid, dist=True)\n",
    "f, ax = plt.subplots(2,2)\n",
    "# OG\n",
    "plot_encoded(ax[0][0], mid, decoder)\n",
    "ax[0][0].set_title('Original vec')\n",
    "# neighbors\n",
    "plot_encoded(ax[0][1], neighbors[0], decoder)\n",
    "ax[0][1].set_title(f'neighbor 1 (dist={dist[0]:.2E})')\n",
    "plot_encoded(ax[1][0], neighbors[1], decoder)\n",
    "ax[1][0].set_title(f'neighbor 2 (dist={dist[1]:.2E})')\n",
    "plot_encoded(ax[1][1], neighbors[2], decoder)\n",
    "ax[1][1].set_title(f'neighbor 3 (dist={dist[2]:.2E})')\n"
   ]
  },
  {
   "cell_type": "code",
   "execution_count": 241,
   "metadata": {},
   "outputs": [
    {
     "name": "stdout",
     "output_type": "stream",
     "text": [
      "63.0\n"
     ]
    }
   ],
   "source": [
    "class LSHTable():\n",
    "\n",
    "    def hash(self, ps, vec):\n",
    "        # given a planeset index and vector, generate and return the hash.\n",
    "        planes = self.planesets[ps]\n",
    "        proj = vec.T @ planes\n",
    "        signs = torch.sign(proj).detach().squeeze()\n",
    "        h = 0\n",
    "        for i in range(signs.shape[0]):\n",
    "            h += (2 ** i) * signs[i]\n",
    "        return h\n",
    "\n",
    "    def exhaustive_search(self, candidates, vec):\n",
    "        dist, i =\n",
    "\n",
    "    def __init__(self, P = 8, H = 3, dim=(1, 100), sim=):\n",
    "        # dimensions of vector must be known before initialization\n",
    "        self.dim = dim[1]\n",
    "        # let P = the number of planes that will be applied to each vector\n",
    "        self.P = P\n",
    "        # Let H = number of hashes generated\n",
    "        self.H = H\n",
    "        # Create H sets of planes to generate hashes.\n",
    "        self.planesets = [torch.rand(self.dim, self.P) for _ in range(self.H)]\n",
    "        # use data list, hash list in order to rehash if necessary.\n",
    "        self.data, self.hashes = [], []\n",
    "        # Initialize empty dictionary\n",
    "        self.vec_dict = dict()\n",
    "        pass\n",
    "\n",
    "    def add(self, vec):\n",
    "        # new index is the length of data list before insertion\n",
    "        new_idx = len(self.data)\n",
    "        self.data.append(vec)\n",
    "        self.hashes.append([])\n",
    "        for p in range(self.H):\n",
    "            h = self.hash(p, vec)\n",
    "            print(f'Generated hash {hex(hash)}')\n",
    "            self.hashes[new_idx].append(h)\n",
    "        # Add index to dictionary based on all hashes.\n",
    "        for h in self.hashes[new_idx]:\n",
    "            if h not in self.vec_dict:\n",
    "                self.vec_dict[h] = []\n",
    "            self.vec_dict[h].append(new_idx)        \n",
    "        pass\n",
    "\n",
    "    def lookup(self, vec):\n",
    "        # Compute hashes \n",
    "        hashes = []\n",
    "        for p in range(self.H):\n",
    "            h = self.hash(p, vec)\n",
    "            print(f'Generated hash {hex(hash)}')\n",
    "            hashes.append(h)\n",
    "        candidates = []\n",
    "        for h in hashes:\n",
    "            candidates += self.vec_dict[h] if h in self.vec_dict else []\n",
    "        \n",
    "        \n",
    "        pass"
   ]
  },
  {
   "cell_type": "code",
   "execution_count": null,
   "metadata": {},
   "outputs": [],
   "source": []
  }
 ],
 "metadata": {
  "kernelspec": {
   "display_name": "Python 3",
   "language": "python",
   "name": "python3"
  },
  "language_info": {
   "codemirror_mode": {
    "name": "ipython",
    "version": 3
   },
   "file_extension": ".py",
   "mimetype": "text/x-python",
   "name": "python",
   "nbconvert_exporter": "python",
   "pygments_lexer": "ipython3",
   "version": "3.9.6"
  },
  "orig_nbformat": 4
 },
 "nbformat": 4,
 "nbformat_minor": 2
}
